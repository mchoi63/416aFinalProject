{
 "cells": [
  {
   "cell_type": "markdown",
   "metadata": {},
   "source": [
    "# Homework 5\n",
    "Name: Mason Hall\n",
    "\n",
    "Wustlkey: masonhall\n",
    " \n",
    "Partner Name: Min Choi\n",
    "\n",
    "Partner Wustlkey: choi.m"
   ]
  },
  {
   "cell_type": "markdown",
   "metadata": {},
   "source": [
    "### Notes and Submission Instructions:  \n",
    "* **Libraries**: You may use available NetworkX functions. \n",
    "* **Comments**: Comment your code to receive maximum credit.\n",
    "* **Number of Cells**: Do not change the number of (code or markdown) cells in this notebook.\n",
    "* **What to submit**: Only submit the hw3_problem3.ipynb - nothing else. "
   ]
  },
  {
   "cell_type": "markdown",
   "metadata": {},
   "source": [
    "## Problem 1: Community Detection - Empirical Study Code (30%)\n",
    "\n",
    "In this problem we will compare the different community detection algorithms studied in class for multiple real world social networks."
   ]
  },
  {
   "cell_type": "markdown",
   "metadata": {},
   "source": [
    "### 1.1 Datset Statistics (code ungraded)\n",
    "Add a table summaraizing the statistics to your written pdf submission. \n",
    "\n",
    "__[optional] Your Program Below:__"
   ]
  },
  {
   "cell_type": "code",
   "execution_count": 16,
   "metadata": {},
   "outputs": [
    {
     "name": "stdout",
     "output_type": "stream",
     "text": [
      "          C   Dataset         d     m    n\n",
      "0  0.258958  Dolphins  3.356954   159   62\n",
      "1  0.570638    Karate  2.408200    78   34\n",
      "2  0.617451      Jazz  2.235041  2742  198\n"
     ]
    }
   ],
   "source": [
    "import pandas as pd\n",
    "import scipy as sc\n",
    "import numpy as np\n",
    "import networkx as nx\n",
    "import matplotlib.pyplot as plt\n",
    "import random\n",
    "import sys\n",
    "import time\n",
    "\n",
    "\n",
    "dolphinGraph = nx.read_gml(\"./dolphins/dolphins.gml\",label='id')\n",
    "karateGraph = nx.read_gml(\"./karate/karate.gml\",label='id')\n",
    "jazzGraph = nx.read_weighted_edgelist(\"./jazz.txt\",nodetype=int)\n",
    "#print(jazzGraph.nodes())\n",
    "\n",
    "#plt.figure(figsize=(20,14)) #good functionaliy\n",
    "# pos = nx.circular_layout(jazzGraph,scale=4) #Fix this too\n",
    "# nx.draw(jazzGraph,pos=pos,node_shape=\".\", dpi=1000)\n",
    "# nx.draw(jazzGraph)\n",
    "# plt.show()\n",
    "# nx.draw(karateGraph)\n",
    "# plt.show()\n",
    "# nx.draw(dolphinGraph)\n",
    "# plt.show()\n",
    "\n",
    "#  number of nodes n\n",
    "# • number of edges m\n",
    "# • average path lengths d ̄\n",
    "# • average clustering coefficient C\n",
    "# Present your results in a table with the datasets as rows and the statistics as columns.\n",
    "\n",
    "d = {'Dataset':['Dolphins','Karate','Jazz'],'n':[nx.number_of_nodes(dolphinGraph),nx.number_of_nodes(karateGraph),nx.number_of_nodes(jazzGraph)],'m':[nx.number_of_edges(dolphinGraph),nx.number_of_edges(karateGraph),nx.number_of_edges(jazzGraph)],'d':[nx.average_shortest_path_length(dolphinGraph),nx.average_shortest_path_length(karateGraph),nx.average_shortest_path_length(jazzGraph)],'C':[nx.average_clustering(dolphinGraph),nx.average_clustering(karateGraph),nx.average_clustering(jazzGraph)]}\n",
    "#d={'c':[0,1,2]}\n",
    "stats = pd.DataFrame(data=d)\n",
    "print(stats)"
   ]
  },
  {
   "cell_type": "markdown",
   "metadata": {},
   "source": [
    "### 1.2 [Implementation] Betweenness-Based Clustering (10%)\n",
    "\n",
    "Write a function that computes betweenness-based clustering (using the Girvan-Newman algorithm) taking the number of clusters k as an input. Comment your code to receive maximum credit.\n",
    "\n",
    "__Your Program Below:__"
   ]
  },
  {
   "cell_type": "code",
   "execution_count": 17,
   "metadata": {},
   "outputs": [
    {
     "name": "stdout",
     "output_type": "stream",
     "text": [
      "[<networkx.classes.graph.Graph object at 0x0000000004E2EC18>, <networkx.classes.graph.Graph object at 0x0000000004E2ECF8>, <networkx.classes.graph.Graph object at 0x0000000004E2EDD8>, <networkx.classes.graph.Graph object at 0x0000000004E2EEB8>]\n"
     ]
    }
   ],
   "source": [
    "def girvanBetweenness(graph,k):\n",
    "#     plt.close()\n",
    "#     plt.figure(edgecolor='b')\n",
    "#     nx.draw(graph)\n",
    "#     plt.title(\"{0} Connected Components and {1} Edges\".format(nx.number_connected_components(graph), nx.number_of_edges(graph)))\n",
    "#     plt.show()\n",
    "\n",
    "    returnFormat = []\n",
    "    for component in nx.connected_components(graph):\n",
    "        returnFormat.append(graph.subgraph(component)) #needs list of subgraphs for the nx.community.modularity\n",
    "                                                        #networkx recommends this iteration over the subgraphs method\n",
    "    if(len(graph.edges()) == 0):\n",
    "        return returnFormat\n",
    "    if(nx.number_connected_components(graph) == k):\n",
    "        #We have reached k disjoint clusters (after deleting edges)\n",
    "        #print(list(nx.connected_components(graph)))\n",
    "        #Need to return a list of subgraphs, not nodes\n",
    "        return returnFormat\n",
    "    elif(nx.number_connected_components(graph) == 1): #Initial case\n",
    "        edgesBetween = nx.edge_betweenness_centrality(graph) #Get the edge betweenness using networkx\n",
    "        edgeWithMost = max(edgesBetween, key=edgesBetween.get) #find the one with highest betweenness\n",
    "        graph.remove_edge(edgeWithMost[0],edgeWithMost[1]) #Delete this edge\n",
    "        return girvanBetweenness(graph,k) #Call it again!\n",
    "    else:\n",
    "        #We need to first find edge betweenness\n",
    "        edgeWithMostEndpoints = None\n",
    "        edgeWithMostBetweenness = 0.0\n",
    "        utterFailure = True\n",
    "        for connectedComponent in nx.connected_component_subgraphs(graph):\n",
    "            edgesBetween = nx.edge_betweenness_centrality(connectedComponent) #Get the edge betweenness using networkx\n",
    "            if(len(edgesBetween) == 0):\n",
    "                continue\n",
    "            edgeWithMost = max(edgesBetween, key=edgesBetween.get) #find the one with highest betweenness\n",
    "            utterFailure = False\n",
    "            if(edgeWithMostBetweenness < edgesBetween[edgeWithMost]):\n",
    "\n",
    "                edgeWithMostEndpoints = edgeWithMost\n",
    "                edgeWithMostBetweenness = edgesBetween[edgeWithMost]\n",
    "        if(utterFailure): #to prevent infinite looping\n",
    "            return returnFormat\n",
    "        graph.remove_edge(edgeWithMostEndpoints[0],edgeWithMostEndpoints[1]) #Delete the most between edge across all clusters\n",
    "        return girvanBetweenness(graph,k) #Call it again!\n",
    "\n",
    "print(girvanBetweenness(jazzGraph.copy(),4))\n",
    "\n"
   ]
  },
  {
   "cell_type": "markdown",
   "metadata": {},
   "source": [
    "### 1.3 [Implementation] Modularity Maximization  (10%)\n",
    "Write a function that computes modularity-based clustering (modularity maximization) taking the number of clusters k as an input. Comment your code to receive maximum credit.\n",
    "\n",
    "__Your Code Below:__"
   ]
  },
  {
   "cell_type": "code",
   "execution_count": 29,
   "metadata": {
    "scrolled": false
   },
   "outputs": [
    {
     "data": {
      "image/png": "[encoded data removed]",
      "text/plain": [
       "<Figure size 432x288 with 1 Axes>"
      ]
     },
     "metadata": {
      "needs_background": "light"
     },
     "output_type": "display_data"
    },
    {
     "data": {
      "image/png": "[encoded data removed]",
      "text/plain": [
       "<Figure size 432x288 with 1 Axes>"
      ]
     },
     "metadata": {
      "needs_background": "light"
     },
     "output_type": "display_data"
    },
    {
     "data": {
      "image/png": "[encoded data removed]",
      "text/plain": [
       "<Figure size 432x288 with 1 Axes>"
      ]
     },
     "metadata": {
      "needs_background": "light"
     },
     "output_type": "display_data"
    },
    {
     "data": {
      "text/plain": [
       "-0.07503287310979596"
      ]
     },
     "execution_count": 29,
     "metadata": {},
     "output_type": "execute_result"
    }
   ],
   "source": [
    "def partitioner(subGraph,q,number):\n",
    "        modMatrix = nx.modularity_matrix(subGraph) #Get the modularity matrix of the graph\n",
    "        try:\n",
    "            eig = np.linalg.eig(modMatrix)\n",
    "            eigenvalues = eig[0]\n",
    "            eigenvectors = eig[1]\n",
    "            #Find the leading vector\n",
    "            largestEigVal =  max(eigenvalues)        \n",
    "            leadingEigVec = eigenvectors[np.argmax(eigenvalues)]\n",
    "\n",
    "            #Using argwhere to create a \"mask\" of sorts\n",
    "            posNodes = np.argwhere(leadingEigVec >= 0)\n",
    "            negNodes = np.argwhere(leadingEigVec < 0)\n",
    "\n",
    "            nodes = subGraph.nodes()\n",
    "            negs = np.array(nodes)[negNodes[:,1]]\n",
    "            pos = np.array(nodes)[posNodes[:,1]]\n",
    "\n",
    "            negGraph = subGraph.subgraph(negs)\n",
    "            posGraph = subGraph.subgraph(pos)\n",
    "\n",
    "            #Check the modularity with these two communities\n",
    "            qNew = abs(nx.community.modularity(subGraph, [negGraph,posGraph]))\n",
    "            print(\"qNew is {0} and q is {1}\".format(qNew,q))\n",
    "            if(qNew < q):\n",
    "                return (list(negGraph),list(posGraph)) #Finished, return the current arrangement     \n",
    "            else:\n",
    "                party = (partition(negGraph,qNew,number),partition(posGraph,qNew)) #Beautiful recursion\n",
    "                #Flatten the ugly lists from my recursive calls\n",
    "                groups = [y for x in party for y in x]\n",
    "                return groups\n",
    "        except:\n",
    "            return number\n",
    "        \n",
    "def partitionTry2(subGraph,q): #Same as \"partitioner\" but without recursion and such it only goes once\n",
    "#         nx.draw_networkx(subGraph)\n",
    "#         plt.show()\n",
    "        modMatrix = nx.modularity_matrix(subGraph) #Get the modularity matrix of the graph\n",
    "        eig = np.linalg.eig(modMatrix)\n",
    "        eigenvalues = eig[0]\n",
    "        eigenvectors = eig[1]\n",
    "        #Find the leading vector\n",
    "        largestEigVal =  max(eigenvalues)        \n",
    "        leadingEigVec = eigenvectors[np.argmax(eigenvalues)]\n",
    "\n",
    "        #Using argwhere to create a \"mask\" of sorts\n",
    "        posNodes = np.argwhere(leadingEigVec >= 0)\n",
    "        negNodes = np.argwhere(leadingEigVec < 0)\n",
    "        \n",
    "        nodes = subGraph.nodes()\n",
    "        negs = np.array(nodes)[negNodes[:,1]]\n",
    "        pos = np.array(nodes)[posNodes[:,1]]\n",
    "\n",
    "        negGraph = subGraph.subgraph(negs)\n",
    "        posGraph = subGraph.subgraph(pos)\n",
    "        if(not nx.algorithms.community.is_partition(subGraph, [negGraph,posGraph])):\n",
    "            print(\"failure\")\n",
    "        #print(nx.algorithms.community.is_partition(subGraph, [negGraph,posGraph]))\n",
    "        \n",
    "        #Check the modularity with these two communities\n",
    "        qNew = abs(nx.community.modularity(subGraph, [negGraph,posGraph]))\n",
    "        #These are valid partitions now but not later....\n",
    "        if(qNew < q):\n",
    "            return (negGraph,posGraph,qNew)\n",
    "            #return (list(negGraph),list(posGraph),qNew) #Finished, return the current arrangement\n",
    "        else:\n",
    "            return (negGraph,posGraph,qNew)\n",
    "            #return (list(negGraph),list(posGraph),qNew)\n",
    "\n",
    "def partitionHelper(graph,k):\n",
    "    infiniteStopper = 0\n",
    "    partitions = [] #Start with an empty array of lists (That will have our partitions)\n",
    "    partitions.append([list(graph),0]) #Insert the graph's nodes to this list\n",
    "    qq = 0\n",
    "    while(len(partitions) < k): \n",
    "        #While we don't have k clusters\n",
    "        #temp array to prevent infinite loop\n",
    "        tempPartitions = partitions\n",
    "        \n",
    "        #need to remove the last value in each, and no, slicing does not work\n",
    "        testPartitions = []\n",
    "        for partition,qNew in tempPartitions:\n",
    "            testPartitions.append(partition)\n",
    "        \n",
    "        \n",
    "        \n",
    "\n",
    "        #print(tempPartitions)\n",
    "        \n",
    "        if(infiniteStopper > len(graph.nodes())):\n",
    "            print(\"oops\")\n",
    "            break #If trying to go beyond the \"max\", abort mission\n",
    "        for partition,qNew in partitions:\n",
    "            #print(len(partitions))\n",
    "            #Create a graph for each of the \"partitions\" generated so far, and call the modularity maximization function on them.\n",
    "            subby = graph.subgraph(partition)\n",
    "            #print(\"Stored qNew was {0}\".format(qNew))\n",
    "            returns = partitionTry2(subby,qNew) #qNew is stored in the tuple array!\n",
    "            if(returns[2] > qNew):\n",
    "                infiniteStopper+=1\n",
    "                tempPartitions.remove([partition,qNew])\n",
    "                tempPartitions.append([returns[0],returns[2]]) #Add it\n",
    "                \n",
    "                testPartitions.remove(partition)\n",
    "                testPartitions.append(returns[0])\n",
    "                if(len(tempPartitions) < k): #If we can afford to add another, do it!\n",
    "                    tempPartitions.append([returns[1],returns[2]])\n",
    "                    testPartitions.append(returns[1])\n",
    "            else:\n",
    "                infiniteStopper+=1\n",
    "        #After all iterations, update the main partition list and continue the while loop!\n",
    "        \n",
    "        partitions = tempPartitions\n",
    "        modularity = nx.community.modularity(graph, testPartitions)\n",
    "        \n",
    "        if(qq < modularity):\n",
    "            return partitions\n",
    "        else:\n",
    "            qq = modularity\n",
    "    #print(\"broke while\")\n",
    "    return partitions\n",
    "        \n",
    "def maxTheMod(graph,k):\n",
    "    if(nx.number_connected_components(graph) == k):\n",
    "        #Already done lol\n",
    "        plt.close()\n",
    "        plt.figure(edgecolor='b')\n",
    "        nx.draw(graph)\n",
    "        plt.title(\"{0} Connected Components and {1} Edges\".format(nx.number_connected_components(graph), nx.number_of_edges(graph)))\n",
    "        plt.show()\n",
    "        return graph\n",
    "    else: \n",
    "        #maxPartitions = partitioner(graph,0)\n",
    "        #print(maxPartitions)\n",
    "        partitions = partitionHelper(graph,k)\n",
    "        #print(nx.community.is_partition(graph,partitions))#Built-in debug function to see if partitioning is valid, thanks networkx\n",
    "        #The format for later needs to be a list of subgraphs\n",
    "        returnFormat = []\n",
    "        for partition in partitions:\n",
    "            returnFormat.append(nx.subgraph(graph,partition[0]))\n",
    "        return returnFormat\n",
    "\n",
    "returnedPart = maxTheMod(karateGraph.copy(),3)\n",
    "#print(returnedPart)\n",
    "arrayT = []\n",
    "for party in returnedPart:\n",
    "    nx.draw_networkx(nx.subgraph(karateGraph,party))\n",
    "    plt.show()\n",
    "    arrayT.append(nx.subgraph(karateGraph,party))\n",
    "nx.community.modularity(karateGraph.copy(), arrayT)"
   ]
  },
  {
   "cell_type": "markdown",
   "metadata": {},
   "source": [
    "\n",
    "### 1.4 [Implementation] Spectral Clustering  (10%)\n",
    "Write a function that computes spectral clustering (using the graph Laplacian) taking the number of clusters k as an input. Comment your code to receive maximum credit.\n",
    "\n",
    "__Your Code Below:__"
   ]
  },
  {
   "cell_type": "code",
   "execution_count": 37,
   "metadata": {},
   "outputs": [],
   "source": [
    "def recurso(graph,potentialCenters,k,chosenSet):\n",
    "    normLaplass = nx.normalized_laplacian_matrix(graph) #Get the laplacian matrix\n",
    "    potentialCenters = {k:1 for k in list(potentialCenters)} #Reset to zero, no double counting!\n",
    "    potentialGrouping = {k:[k] for k in list(potentialCenters)} #Set up some partition dictionary\n",
    "    for i in graph.nodes(): #iterate through\n",
    "        minPoint = 10.0 #default max\n",
    "        closestNode = i\n",
    "        for j in potentialCenters.keys(): #Check the existing centroids\n",
    "            squared = normLaplass[(i-1),(j-1)]**2\n",
    "            if(squared <= minPoint):\n",
    "                minPoint = squared\n",
    "                closestNode = j #this is the node it is closest too (least squared)\n",
    "        \n",
    "        if(i in chosenSet): #If this node is a centroid, don't add it\n",
    "            continue\n",
    "        #potentialGrouping[closestNode].append(i) #Add the node to groups for subgraph stuff later\n",
    "        #potentialCenters[closestNode] += 1 #Increment the counter\n",
    "        #OR it's\n",
    "        potentialCenters[closestNode] += minPoint\n",
    "        #OH GOD THIS WORKS!\n",
    "    \n",
    "    for node in potentialCenters.keys():\n",
    "        potentialCenters[node] = potentialCenters[node]/len(potentialGrouping[node]) #Averages!\n",
    "    \n",
    "    topK = sorted(potentialCenters.iteritems(), key=lambda x:-x[1])[:k] #Get the top k\n",
    "    topKDict = dict(topK)\n",
    "    \n",
    "    \n",
    "    if(sum(potentialCenters.values()) == len(graph.nodes())): #If we have everything assigned, completed\n",
    "         return potentialGrouping\n",
    "    else: #else, do it again\n",
    "        return recurso(graph,topKDict,k,list(topKDict.keys()))\n",
    "    \n",
    "    \n",
    "def specters(graph,k):\n",
    "    potentialCenters = {k:0 for k in list(graph)} #default dictionary\n",
    "    groups = recurso(graph,potentialCenters,k,[])\n",
    "\n",
    "#     tuplesDict = dict(sorted(groups.iteritems(), key=lambda x:len(x[1])))\n",
    "   \n",
    "#     tuples = [[k,0] for k in list(groups.keys())]\n",
    "#     tuples = [[k,k] for k in list(graph.nodes)]\n",
    "#     #print(tuples)\n",
    "#     for centroid in groups.keys():\n",
    "#         for node in groups[centroid]:\n",
    "#             tuples[node-1][0] = centroid\n",
    "    return groups.values()"
   ]
  },
  {
   "cell_type": "markdown",
   "metadata": {},
   "source": [
    "### 1.5 Quantitative Comparison (code ungraded)\n",
    "Run all three methods on the three datasets (KARATE, DOLPHINS, JAZZ) for k = 2,3,4,5 and report the following for all methods and datasets:\n",
    "• modulaity score for all clusterings\n",
    "• runtime of the algorithm (HINT: re-execute your computation 5-10 times and take the mode runtime to get a better estimate as runtimes might vary for different runs).\n",
    "\n",
    "Add a table summarizing the result to your written submission. Answer the question in your written submission: According to your findings, which algorithm performs the best (wr.t. both efficiency and quality)?\n",
    "\n",
    "\n",
    "__[optional] Your Program Below:__"
   ]
  },
  {
   "cell_type": "markdown",
   "metadata": {
    "scrolled": false
   },
   "source": [
    "k=2 runtimes (s) | spectral | ModMax | Girvan|\n",
    "-------------------|---------|----|----|------|\n",
    "Karate | 0.0579968407299 |0.0174447830846 | 0.0740094797489 |\n",
    "dolphin | 0.149979296989| ---| 0.173137044231 | \n",
    "jazz | 1.73948820413 | --- | 3.8447149627 |\n",
    "\n",
    "k=3 runtimes (s) | spectral | ModMax | Girvan|\n",
    "-------------------|---------|----|----|------|\n",
    "karate | 0.0532183241514 | 0.0256042418376 | 0.0902921791108 |\n",
    "dolphin | 0.179663050022 | ---| 0.178118857583 |\n",
    "jazz | 1.71785205542 | --- | 4.72629951389 |\n",
    "\n",
    "\n",
    "k=4 runtimes (s) | spectral | ModMax | Girvan|\n",
    "-------------------|---------|----|----|------|\n",
    "karate | 0.0605620261202 | 0.147083542223 | 0.122103639171\n",
    "dolphin | 0.194513459865| ---| 0.208142101196\n",
    "jazz | 1.90864571283| ---|6.51805748552\n",
    "\n",
    "k=5 runtimes (s) | spectral | ModMax | Girvan|\n",
    "-------------------|---------|----|----|------|\n",
    "karate | 0.0680188431324 | 0.150825308292 | 0.128333693735\n",
    "dolphin | 0.310492208008| ---|0.17337738339\n",
    "jazz | 1.89406880575| ---|6.5527428337\n",
    "\n",
    "\n",
    "k=2 modularity | spectral | ModMax | Girvan|\n",
    "-------------------|---------|----|----|------|\n",
    "karate | -0.0498027613412 | -0.0579388560158 | 0.359960552268\n",
    "Dolphin | -0.0213994699577 | ---|0.378703374075\n",
    "Dolphin | -0.00704615934639| ---|0.00362994848484\n",
    "\n",
    "k=3 modularity | spectral | ModMax | Girvan|\n",
    "-------------------|---------|----|----|------|\n",
    "Karate | -0.0498027613412 | -0.0750328731098 | 0.374424720579\n",
    "Dolphin | -0.0213994699577| ---|is 0.373244729243\n",
    "Jazz |  -0.00704615934639| ---|is 0.00290241594007\n",
    "\n",
    "k=4 modularity | spectral | ModMax | Girvan|\n",
    "-------------------|---------|----|----|------|\n",
    "Karate |-0.0498027613412 | -0.0750328731098 | 0.353714661407\n",
    "Dolphin |-0.0213994699577| ---| 0.367014754163\n",
    "Jazz | -0.00704615934639,| ---| 0.00217521590559\n",
    "\n",
    "k=5 modularity | spectral | ModMax | Girvan|\n",
    "-------------------|---------|----|----|------|\n",
    "Karate | -0.0498027613412 | -0.0750328731098 | 0.341633793557\n",
    "Dolphin | -0.0213994699577| ---| 0.340176417072\n",
    "Jazz |-0.00704615934639| ---| 0.00181238066205\n",
    "\n",
    "\n",
    "\n",
    "*Interpretation*\n",
    "\n",
    "The spectral method runtime seems to be the least affected by the number of clusters, k, but also looking at the numbers it is clear that something is not working properly. That said, when creating it, it passed the networkx partitioning check so it mandates further investigation. I believe the same issue is attributable to why the modularity maximization method fails for Dolphin and Jazz. The method works fine for test data and karate, but gives many \"not a partition\" errors when running on dolphin and Jazz data.\n",
    "\n",
    "Still, outside research seems to verify my estimate that spectral is the most efficient method, though girvan-newman seems the most deliberate. On small graphs I believe Girvan Newman would be the best to run.\n",
    "\n",
    "If the NX testing function is correct though, spectral would be the best. It is extremely efficient and scales nicely to any size data sets.\n"
   ]
  },
  {
   "cell_type": "markdown",
   "metadata": {},
   "source": [
    "### 1.6 Qualitative Comparison (no code submission required)\n",
    "Justify the quality of your results by visualizing the clusters. Use Gephi (https://gephi.org), an open source graph visualization and analysis tool. Try differnt layouts and experiment with node and edge coloring, sizes, etc.! Add your visualization and a careful description on what your visualization shows to your written submission.\n",
    "\n"
   ]
  },
  {
   "cell_type": "code",
   "execution_count": null,
   "metadata": {},
   "outputs": [],
   "source": []
  }
 ],
 "metadata": {
  "kernelspec": {
   "display_name": "Python 3",
   "language": "python",
   "name": "python3"
  },
  "language_info": {
   "codemirror_mode": {
    "name": "ipython",
    "version": 3
   },
   "file_extension": ".py",
   "mimetype": "text/x-python",
   "name": "python",
   "nbconvert_exporter": "python",
   "pygments_lexer": "ipython3",
   "version": "3.7.0"
  }
 },
 "nbformat": 4,
 "nbformat_minor": 2
}
